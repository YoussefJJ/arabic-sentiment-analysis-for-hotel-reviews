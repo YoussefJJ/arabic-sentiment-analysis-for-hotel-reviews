{
  "cells": [
    {
      "cell_type": "markdown",
      "metadata": {
        "id": "view-in-github",
        "colab_type": "text"
      },
      "source": [
        "<a href=\"https://colab.research.google.com/github/YoussefJJ/arabic-sentiment-analysis-for-hotel-reviews/blob/main/multi_label.ipynb\" target=\"_parent\"><img src=\"https://colab.research.google.com/assets/colab-badge.svg\" alt=\"Open In Colab\"/></a>"
      ]
    },
    {
      "cell_type": "code",
      "execution_count": null,
      "metadata": {
        "id": "53KYk_nVGPBL"
      },
      "outputs": [],
      "source": [
        "import tensorflow as tf"
      ]
    },
    {
      "cell_type": "code",
      "execution_count": null,
      "metadata": {
        "colab": {
          "base_uri": "https://localhost:8080/"
        },
        "id": "bxVtoKnMhSbG",
        "outputId": "184623cd-e442-4c0b-e9f4-2ccbd6ed02fe"
      },
      "outputs": [
        {
          "output_type": "stream",
          "name": "stdout",
          "text": [
            "Drive already mounted at /content/drive; to attempt to forcibly remount, call drive.mount(\"/content/drive\", force_remount=True).\n"
          ]
        }
      ],
      "source": [
        "from google.colab import drive\n",
        "drive.mount('/content/drive')"
      ]
    },
    {
      "cell_type": "markdown",
      "metadata": {
        "id": "HLMbqfNloeM5"
      },
      "source": [
        "# **Getting the Data**\n",
        "This procedure consists of reading the dataset files and loading them in a Pandas DataFrame, then splitting the dataframe into 2 parts: training set and validation set, which we will be using later on."
      ]
    },
    {
      "cell_type": "code",
      "execution_count": null,
      "metadata": {
        "colab": {
          "base_uri": "https://localhost:8080/"
        },
        "id": "N7h6UryYIScu",
        "outputId": "6481fe57-d78a-4fd8-f7ea-32a04ed63734"
      },
      "outputs": [
        {
          "output_type": "stream",
          "name": "stdout",
          "text": [
            "Sample: \"5 - حوض سباحه رائع\"\n",
            "Labels: {'FACILITIES#CLEANLINESS': 0, 'FACILITIES#COMFORT': 0, 'FACILITIES#DESIGN_FEATURES': 0, 'FACILITIES#GENERAL': 1, 'FACILITIES#MISCELLANEOUS': 0, 'FACILITIES#PRICES': 0, 'FACILITIES#QUALITY': 0, 'FOOD_DRINKS#MISCELLANEOUS': 0, 'FOOD_DRINKS#PRICES': 0, 'FOOD_DRINKS#QUALITY': 0, 'FOOD_DRINKS#STYLE_OPTIONS': 0, 'HOTEL#CLEANLINESS': 0, 'HOTEL#COMFORT': 0, 'HOTEL#DESIGN_FEATURES': 0, 'HOTEL#GENERAL': 0, 'HOTEL#MISCELLANEOUS': 0, 'HOTEL#PRICES': 0, 'HOTEL#QUALITY': 0, 'LOCATION#GENERAL': 0, 'ROOMS#CLEANLINESS': 0, 'ROOMS#COMFORT': 0, 'ROOMS#DESIGN_FEATURES': 0, 'ROOMS#GENERAL': 0, 'ROOMS#MISCELLANEOUS': 0, 'ROOMS#PRICES': 0, 'ROOMS#QUALITY': 0, 'ROOMS_AMENITIES#CLEANLINESS': 0, 'ROOMS_AMENITIES#COMFORT': 0, 'ROOMS_AMENITIES#DESIGN_FEATURES': 0, 'ROOMS_AMENITIES#GENERAL': 0, 'ROOMS_AMENITIES#MISCELLANEOUS': 0, 'ROOMS_AMENITIES#PRICES': 0, 'ROOMS_AMENITIES#QUALITY': 0, 'SERVICE#GENERAL': 0}\n"
          ]
        }
      ],
      "source": [
        "import pandas as pd\n",
        "from sklearn.model_selection import train_test_split\n",
        "\n",
        "DATASETS_PATH = '/content/drive/MyDrive/PFA/datasets/'\n",
        "\n",
        "df = pd.read_excel(DATASETS_PATH + \"train_original.xlsx\")\n",
        "train_df, val_df = train_test_split(df, test_size=0.1)\n",
        "texts = list(train_df[\"text\"])\n",
        "label_names = train_df.drop([\"text\"], axis=1).columns\n",
        "labels = train_df[label_names].values\n",
        "\n",
        "train_texts, val_texts, train_labels, test_labels = train_test_split(\n",
        "    texts, labels, test_size=0.2, random_state=42\n",
        ")\n",
        "\n",
        "sample_idx = 24\n",
        "print(f'Sample: \"{train_texts[sample_idx]}\"')\n",
        "print(f\"Labels: {pd.Series(train_labels[sample_idx], label_names).to_dict()}\")"
      ]
    },
    {
      "cell_type": "code",
      "source": [
        "import pandas as pd\n",
        "from sklearn.model_selection import train_test_split\n",
        "\n",
        "DATASETS_PATH = '/content/drive/MyDrive/PFA/datasets/'\n",
        "\n",
        "df = pd.read_excel(DATASETS_PATH + \"train_original.xlsx\")\n",
        "DATASET_SIZE = len(df)\n",
        "train_size = int(DATASET_SIZE * 0.8)\n",
        "val_size = int(DATASET_SIZE * 0.2)\n",
        "train_df = df[train_size:]\n",
        "val_df =  df[:val_size]\n",
        "\n",
        "train_texts = list(train_df[\"text\"])\n",
        "val_texts = list(val_df[\"text\"])\n",
        "\n",
        "label_names = train_df.drop([\"text\"], axis=1).columns\n",
        "train_labels = train_df[label_names].values\n",
        "val_labels = val_df[label_names].values\n",
        "\n",
        "# train_texts, val_texts, train_labels, test_labels = train_test_split(\n",
        "#     texts, labels, test_size=0.2, random_state=42\n",
        "# )\n",
        "\n",
        "sample_idx = 24\n",
        "print(f'Sample: \"{train_texts[sample_idx]}\"')\n",
        "print(f\"Labels: {pd.Series(train_labels[sample_idx], label_names).to_dict()}\")"
      ],
      "metadata": {
        "colab": {
          "base_uri": "https://localhost:8080/"
        },
        "id": "uUeMB1A2xzJg",
        "outputId": "036bfba9-1f05-47b1-9331-d3620764fd99"
      },
      "execution_count": null,
      "outputs": [
        {
          "output_type": "stream",
          "name": "stdout",
          "text": [
            "Sample: \"موظفي الفندق لطفاء وخدومين.\"\n",
            "Labels: {'FACILITIES#CLEANLINESS': 0, 'FACILITIES#COMFORT': 0, 'FACILITIES#DESIGN_FEATURES': 0, 'FACILITIES#GENERAL': 0, 'FACILITIES#MISCELLANEOUS': 0, 'FACILITIES#PRICES': 0, 'FACILITIES#QUALITY': 0, 'FOOD_DRINKS#MISCELLANEOUS': 0, 'FOOD_DRINKS#PRICES': 0, 'FOOD_DRINKS#QUALITY': 0, 'FOOD_DRINKS#STYLE_OPTIONS': 0, 'HOTEL#CLEANLINESS': 0, 'HOTEL#COMFORT': 0, 'HOTEL#DESIGN_FEATURES': 0, 'HOTEL#GENERAL': 0, 'HOTEL#MISCELLANEOUS': 0, 'HOTEL#PRICES': 0, 'HOTEL#QUALITY': 0, 'LOCATION#GENERAL': 0, 'ROOMS#CLEANLINESS': 0, 'ROOMS#COMFORT': 0, 'ROOMS#DESIGN_FEATURES': 0, 'ROOMS#GENERAL': 0, 'ROOMS#MISCELLANEOUS': 0, 'ROOMS#PRICES': 0, 'ROOMS#QUALITY': 0, 'ROOMS_AMENITIES#CLEANLINESS': 0, 'ROOMS_AMENITIES#COMFORT': 0, 'ROOMS_AMENITIES#DESIGN_FEATURES': 0, 'ROOMS_AMENITIES#GENERAL': 0, 'ROOMS_AMENITIES#MISCELLANEOUS': 0, 'ROOMS_AMENITIES#PRICES': 0, 'ROOMS_AMENITIES#QUALITY': 0, 'SERVICE#GENERAL': 1}\n"
          ]
        }
      ]
    },
    {
      "cell_type": "code",
      "execution_count": null,
      "metadata": {
        "colab": {
          "base_uri": "https://localhost:8080/",
          "height": 298
        },
        "id": "Vyykh7QhKXjH",
        "outputId": "196c5b7d-3d02-471c-b6f7-291498eb8932"
      },
      "outputs": [
        {
          "output_type": "execute_result",
          "data": {
            "text/plain": [
              "Text(0.5, 1.0, 'Texts length distribution (number of words)')"
            ]
          },
          "metadata": {},
          "execution_count": 34
        },
        {
          "output_type": "display_data",
          "data": {
            "text/plain": [
              "<Figure size 432x288 with 1 Axes>"
            ],
            "image/png": "[encoded data removed]"
          },
          "metadata": {
            "needs_background": "light"
          }
        }
      ],
      "source": [
        "import seaborn as sns\n",
        "import matplotlib.pyplot as plt\n",
        "\n",
        "text_lengths = [len(t.split()) for t in train_texts]\n",
        "ax = sns.histplot(data=text_lengths, kde=True, stat=\"density\")\n",
        "ax.set_title(\"Texts length distribution (number of words)\")"
      ]
    },
    {
      "cell_type": "markdown",
      "metadata": {
        "id": "3S8GBUBn_kE1"
      },
      "source": [
        "We can check the count for each label in our DataFrame and sort them in descending order. Like this, we can get a better visualization of the distribution of our reviews in the dataset."
      ]
    },
    {
      "cell_type": "code",
      "execution_count": null,
      "metadata": {
        "colab": {
          "base_uri": "https://localhost:8080/",
          "height": 266
        },
        "id": "RW8H3bmHs6Jh",
        "outputId": "184a1ec2-e87b-4f9b-d325-d8931bfdbb61"
      },
      "outputs": [
        {
          "output_type": "display_data",
          "data": {
            "text/plain": [
              "<Figure size 432x288 with 1 Axes>"
            ],
            "image/png": "[encoded data removed]"
          },
          "metadata": {
            "needs_background": "light"
          }
        }
      ],
      "source": [
        "LABEL_COLUMNS = df.columns.tolist()[1:]\n",
        "train_df[LABEL_COLUMNS].sum().sort_values().plot(kind=\"barh\");"
      ]
    },
    {
      "cell_type": "markdown",
      "metadata": {
        "id": "lECSTCUuubiU"
      },
      "source": [
        "**Data Preprocessing and Tokenization** \n"
      ]
    },
    {
      "cell_type": "code",
      "execution_count": null,
      "metadata": {
        "colab": {
          "base_uri": "https://localhost:8080/"
        },
        "id": "9wWBZnxAZO7u",
        "outputId": "4b7eae36-5494-4a21-f9ee-26d248181135"
      },
      "outputs": [
        {
          "output_type": "stream",
          "name": "stdout",
          "text": [
            "Requirement already satisfied: farasapy in /usr/local/lib/python3.7/dist-packages (0.0.14)\n",
            "Requirement already satisfied: tqdm in /usr/local/lib/python3.7/dist-packages (from farasapy) (4.64.0)\n",
            "Requirement already satisfied: requests in /usr/local/lib/python3.7/dist-packages (from farasapy) (2.23.0)\n",
            "Requirement already satisfied: certifi>=2017.4.17 in /usr/local/lib/python3.7/dist-packages (from requests->farasapy) (2021.10.8)\n",
            "Requirement already satisfied: idna<3,>=2.5 in /usr/local/lib/python3.7/dist-packages (from requests->farasapy) (2.10)\n",
            "Requirement already satisfied: urllib3!=1.25.0,!=1.25.1,<1.26,>=1.21.1 in /usr/local/lib/python3.7/dist-packages (from requests->farasapy) (1.24.3)\n",
            "Requirement already satisfied: chardet<4,>=3.0.2 in /usr/local/lib/python3.7/dist-packages (from requests->farasapy) (3.0.4)\n"
          ]
        }
      ],
      "source": [
        "!pip install farasapy"
      ]
    },
    {
      "cell_type": "code",
      "execution_count": null,
      "metadata": {
        "id": "Ev24tBM2ZTch"
      },
      "outputs": [],
      "source": [
        "from farasa.stemmer import FarasaStemmer\n",
        "from farasa.segmenter import FarasaSegmenter"
      ]
    },
    {
      "cell_type": "code",
      "execution_count": null,
      "metadata": {
        "id": "vm9OnTFo87Rw"
      },
      "outputs": [],
      "source": [
        "!cp drive/MyDrive/PFA/Utilities/normalize.py drive/MyDrive/PFA/Utilities/arabic_stopwords.py drive/MyDrive/PFA/Utilities/stopwords.txt drive/MyDrive/PFA/Utilities/emoticons.txt ."
      ]
    },
    {
      "cell_type": "code",
      "execution_count": null,
      "metadata": {
        "colab": {
          "base_uri": "https://localhost:8080/"
        },
        "id": "l6ofSZjQ-qmv",
        "outputId": "2b8c14df-efb2-46a1-8bae-2ec0484d5b58"
      },
      "outputs": [
        {
          "output_type": "stream",
          "name": "stderr",
          "text": [
            "[2022-04-27 12:43:49,948 - farasapy_logger - WARNING]: Be careful with large lines as they may break on interactive mode. You may switch to Standalone mode for such cases.\n"
          ]
        }
      ],
      "source": [
        "from arabic_stopwords import *\n",
        "from normalize import *\n",
        "segmenter = FarasaSegmenter(interactive=True)"
      ]
    },
    {
      "cell_type": "markdown",
      "metadata": {
        "id": "-J5iVNl9GLGn"
      },
      "source": [
        "#**Pre-Processing** (this approach has been delegated in favor of the pre-trained BERTTokenizer, so you can skip to the BERT Tokenization part)\n",
        "(Removing Arabic Stopwords/ Diacritics/ Kashida / Lemmatization / Replace URL/Links/Phone Numbers ) and then Segmentation"
      ]
    },
    {
      "cell_type": "code",
      "execution_count": null,
      "metadata": {
        "id": "AfUf5YxHWSO2"
      },
      "outputs": [],
      "source": [
        "def remove_stopwords(text_in):\n",
        "    stopwords = stopwords_list()\n",
        "    text_out = ' '.join(filter(lambda word: word not in stopwords, text_in.split(' ')))\n",
        "    return text_out\n",
        "\n",
        "def normalize_text(new_text):\n",
        "    # new_text = text.lower()\n",
        "    # new_text = stemmer.stem(text)\n",
        "    new_text = normalize_hamza(new_text)\n",
        "    new_text = strip_diacritics(new_text)\n",
        "    new_text = remove_stopwords(new_text)\n",
        "    new_text = strip_tatweel(new_text)\n",
        "    # new_text = normalize_lamalef(new_text)\n",
        "    new_text = normalize_spellerrors(new_text)\n",
        "    new_text = replace_emails(new_text)\n",
        "    new_text = remove_underscore(new_text)\n",
        "    new_text = replace_phone_numbers(new_text)\n",
        "    new_text = remove_all_punctuations(new_text)\n",
        "    new_text = replace_urls(new_text)\n",
        "    new_text = convert_eastern_to_western_numerals(new_text)\n",
        "    new_text = keep_arabic_english_n_symbols(new_text)\n",
        "    new_text = remove_non_arabic(new_text)\n",
        "    new_text = remove_extra_spaces(new_text)\n",
        "    # new_text = segmenter.segment(new_text)\n",
        "    return new_text"
      ]
    },
    {
      "cell_type": "code",
      "source": [
        "import re\n",
        "\n",
        "def replace_tatweel(text):\n",
        "    TATWEEL = u'\\u0640'\n",
        "\n",
        "    text_list = list(text.split())\n",
        "    new_text_list = text_list.copy()\n",
        "    for (index,word) in enumerate(text_list):\n",
        "       word = ''.join(c for i, c in enumerate(word) if i < 2 or c != word[i - 2])\n",
        "       print(word)\n",
        "      if re.search(TATWEEL, word):\n",
        "        word_index = new_text_list.index(word, index)\n",
        "        new_text_list.insert(word_index + 1, 'جدا')\n",
        "    text = ' '.join(new_text_list)\n",
        "    return re.sub(u'[%s]' % TATWEEL, '', text)"
      ],
      "metadata": {
        "id": "dm-aWTBJ4iIs"
      },
      "execution_count": null,
      "outputs": []
    },
    {
      "cell_type": "code",
      "source": [
        "def replace_emoticon(text):\n",
        "  emoticon_list = []\n",
        "  with open('emoticons.txt', 'r') as f:\n",
        "    emoticons = f.readlines()\n",
        "  for emoticon in emoticons:\n",
        "    emoticon_list.append(tuple(map(str, emoticon.strip().split(', '))))\n",
        "  emoji_dict = {k: v for (k, v) in emoticon_list}\n",
        "  print(emoji_dict)\n",
        "  new_text = text\n",
        "  for emoj in emoji_dict:\n",
        "    new_text = new_text.replace(emoj, emoji_dict[emoj])\n",
        "  return new_text\n",
        "\n",
        "replace_emoticon('😋 طعام لذيذ')\n"
      ],
      "metadata": {
        "id": "AfgT5clgPXsK",
        "colab": {
          "base_uri": "https://localhost:8080/",
          "height": 73
        },
        "outputId": "98a09d08-c9cf-499f-c274-d3e94058f02b"
      },
      "execution_count": null,
      "outputs": [
        {
          "output_type": "stream",
          "name": "stdout",
          "text": [
            "{'U+1F600': 'وجه مبتسم', 'U+1F603': 'وجه مبتسم بعيون كبيرة', 'U+1F604': 'وجه مبتسم بعيون مبتسمة', 'U+1F601': 'وجه مبهج بعيون مبتسمة', 'U+1F606': 'ابتسامة عريضة الوجه', 'U+1F605': 'وجه مبتسم بالعرق', 'U+1F923': 'يتدحرج على الأرض يضحك', 'U+1F602': 'وجه بدموع الفرح', 'U+1F642': 'وجه مبتسم قليلاً', 'U+1F643': 'الوجه المقلوب', 'U+1F609': 'غمز الوجه', 'U+1F60A': 'وجه مبتسم بعيون مبتسمة', 'U+1F607': 'وجه مبتسم بهالة', 'U+1F970': 'وجه مبتسم بقلوب', 'U+1F60D': 'وجه مبتسم بعيون قلب', 'U+1F618': 'وجه ينفخ قبلة', 'U+1F617': 'وجه يقبل', 'U+1F61A': 'تقبيل الوجه بعيون مغلقة', 'U+1F619': 'تقبيل الوجه بعيون مبتسمة', 'U+1F60B': 'وجه تذوق الطعام', 'U+1F61B': 'وجه بلسان', 'U+1F61C': 'غمز الوجه باللسان', 'U+1F92A': 'وجه خاص', 'U+1F61D': 'تحديق الوجه باللسان', 'U+1F911': 'وجه فم المال', 'U+1F917': 'وجه العناق', 'U+1F92D': 'وجه باليد فوق الفم', 'U+1F92B': 'صمت الوجه', 'U+1F914': 'وجه التفكير', 'U+1F910': 'وجه سحاب الفم', 'U+1F928': 'وجه بحاجب مرتفع', 'U+1F610': 'وجه محايد', 'U+1F611': 'وجه بلا تعبير', 'U+1F636': 'وجه بلا فم', 'U+1F60F': 'وجه مبتسم', 'U+1F612': 'وجه غير مسلي', 'U+1F644': 'وجه بعيون متدحرجة', 'U+1F62C': 'وجه قاتم', 'U+1F925': 'وجه كاذب', 'U+1F60C': 'وجه مرتاح', 'U+1F614': 'وجه متأمل', 'U+1F62A': 'وجه نائم', 'U+1F924': 'الوجه يسيل لعابه', 'U+1F634': 'وجه النوم', 'U+1F637': 'وجه بقناع طبي', 'U+1F912': 'وجه مع ميزان الحرارة', 'U+1F915': 'وجه بضمادة الرأس', 'U+1F922': 'غثيان الوجه', 'U+1F92E': 'تقيؤ الوجه', 'U+1F927': 'وجه العطس', 'U+1F975': 'وجه ساخن', 'U+1F976': 'وجه بارد', 'U+1F974': 'وجه دوار', 'U+1F635': 'وجه دوار', 'U+1F92F': 'انفجار الرأس', 'U+1F920': 'وجه قبعة رعاة البقر', 'U+1F973': 'وجه الحفلات', 'U+1F60E': 'وجه مبتسم بنظارات شمسية', 'U+1F913': 'وجه الطالب الذي يذاكر كثيرا', 'U+1F9D0': 'وجه مع أحادي', 'U+1F615': 'وجه مشوش', 'U+1F61F': 'وجه قلق', 'U+1F641': 'وجه عابس قليلاً', 'U+2639': 'وجه عابس', 'U+1F62E': 'وجه بفم مفتوح', 'U+1F62F': 'وجه صامت', 'U+1F632': 'وجه مذهل', 'U+1F633': 'وجه متدفق', 'U+1F97A': 'وجه التوسل', 'U+1F626': 'وجه عابس بفم مفتوح', 'U+1F627': 'الوجه المنكوب', 'U+1F628': 'وجه خائف', 'U+1F630': 'وجه قلق مع العرق', 'U+1F625': 'وجه حزين لكن مرتاح', 'U+1F622': 'وجه يبكي', 'U+1F62D': 'وجه يبكي بصوت عالٍ', 'U+1F631': 'وجه يصرخ في الخوف', 'U+1F616': 'وجه مرتبك', 'U+1F623': 'وجه مثابر', 'U+1F61E': 'وجه محبط', 'U+1F613': 'وجه محبط مع عرق', 'U+1F629': 'وجه مرهق', 'U+1F62B': 'وجه متعب', 'U+1F624': 'وجه ببخار من الأنف', 'U+1F621': 'وجه العبوس', 'U+1F620': 'وجه غاضب', 'U+1F92C': 'وجه بالرموز على الفم', 'U+1F608': 'وجه مبتسم بقرون', 'U+1F47F': 'وجه غاضب بالقرون', 'U+1F4A9': 'كومة من البراز', 'U+1F44D': 'رفع الإبهام', 'U+1F44E': 'عدم استحسان'}\n"
          ]
        },
        {
          "output_type": "execute_result",
          "data": {
            "text/plain": [
              "'😋 طعام لذيذ'"
            ],
            "application/vnd.google.colaboratory.intrinsic+json": {
              "type": "string"
            }
          },
          "metadata": {},
          "execution_count": 42
        }
      ]
    },
    {
      "cell_type": "code",
      "execution_count": null,
      "metadata": {
        "colab": {
          "base_uri": "https://localhost:8080/",
          "height": 35
        },
        "id": "QeLWDwLbTJql",
        "outputId": "ffbca07b-433f-4e33-f437-aeccd049262c"
      },
      "outputs": [
        {
          "output_type": "execute_result",
          "data": {
            "text/plain": [
              "'الحمد جدا رحيم جدا'"
            ],
            "application/vnd.google.colaboratory.intrinsic+json": {
              "type": "string"
            }
          },
          "metadata": {},
          "execution_count": 43
        }
      ],
      "source": [
        "text = ''' الحمــــــد رحــــــيم'''\n",
        "new_text = replace_tatweel(text)\n",
        "new_text"
      ]
    },
    {
      "cell_type": "code",
      "execution_count": null,
      "metadata": {
        "id": "Q1GGSFZze5Wy"
      },
      "outputs": [],
      "source": [
        "def process_text(x):\n",
        "  text = x['text']\n",
        "  processed_text = normalize_text(text)\n",
        "  x['text'] = processed_text\n",
        "  return x"
      ]
    },
    {
      "cell_type": "code",
      "execution_count": null,
      "metadata": {
        "id": "zLX3t0pzrFMi"
      },
      "outputs": [],
      "source": [
        "def df_process(dataset):\n",
        "  return dataset.apply(process_text, axis=1)"
      ]
    },
    {
      "cell_type": "markdown",
      "metadata": {
        "id": "tuevAxbgHgGP"
      },
      "source": [
        "#**Data After Pre-Processing**"
      ]
    },
    {
      "cell_type": "code",
      "execution_count": null,
      "metadata": {
        "colab": {
          "base_uri": "https://localhost:8080/",
          "height": 646
        },
        "id": "bK_OBmHss9Z0",
        "outputId": "4e9fee90-724a-4030-9cbb-5d26f44275af"
      },
      "outputs": [
        {
          "output_type": "execute_result",
          "data": {
            "text/plain": [
              "                                                   text  \\\n",
              "3830                               مواقف السيارات قليله   \n",
              "3831                موجود دم مفارش السرير اوراق بالحجره   \n",
              "3832  موظف الكونسيراج السوداني يحتاج دورات التعامل ا...   \n",
              "3833                     موظف وحيد الاستقبال حامل للشنط   \n",
              "3834  موظفه الاستقبال محترفه يكن الفندق سيءا لديهم ش...   \n",
              "\n",
              "      FACILITIES#CLEANLINESS  FACILITIES#COMFORT  FACILITIES#DESIGN_FEATURES  \\\n",
              "3830                       0                   0                           1   \n",
              "3831                       0                   0                           0   \n",
              "3832                       0                   0                           0   \n",
              "3833                       0                   0                           0   \n",
              "3834                       0                   0                           0   \n",
              "\n",
              "      FACILITIES#GENERAL  FACILITIES#MISCELLANEOUS  FACILITIES#PRICES  \\\n",
              "3830                   0                         0                  0   \n",
              "3831                   0                         0                  0   \n",
              "3832                   0                         0                  0   \n",
              "3833                   0                         0                  0   \n",
              "3834                   1                         0                  0   \n",
              "\n",
              "      FACILITIES#QUALITY  FOOD_DRINKS#MISCELLANEOUS  FOOD_DRINKS#PRICES  ...  \\\n",
              "3830                   0                          0                   0  ...   \n",
              "3831                   0                          0                   0  ...   \n",
              "3832                   0                          0                   0  ...   \n",
              "3833                   0                          0                   0  ...   \n",
              "3834                   0                          0                   0  ...   \n",
              "\n",
              "      ROOMS#PRICES  ROOMS#QUALITY  ROOMS_AMENITIES#CLEANLINESS  \\\n",
              "3830             0              0                            0   \n",
              "3831             0              0                            1   \n",
              "3832             0              0                            0   \n",
              "3833             0              0                            0   \n",
              "3834             0              0                            0   \n",
              "\n",
              "      ROOMS_AMENITIES#COMFORT  ROOMS_AMENITIES#DESIGN_FEATURES  \\\n",
              "3830                        0                                0   \n",
              "3831                        0                                0   \n",
              "3832                        0                                0   \n",
              "3833                        0                                0   \n",
              "3834                        0                                0   \n",
              "\n",
              "      ROOMS_AMENITIES#GENERAL  ROOMS_AMENITIES#MISCELLANEOUS  \\\n",
              "3830                        0                              0   \n",
              "3831                        0                              0   \n",
              "3832                        0                              0   \n",
              "3833                        0                              0   \n",
              "3834                        0                              0   \n",
              "\n",
              "      ROOMS_AMENITIES#PRICES  ROOMS_AMENITIES#QUALITY  SERVICE#GENERAL  \n",
              "3830                       0                        0                0  \n",
              "3831                       0                        0                0  \n",
              "3832                       0                        0                1  \n",
              "3833                       0                        0                1  \n",
              "3834                       0                        0                1  \n",
              "\n",
              "[5 rows x 35 columns]"
            ],
            "text/html": [
              "\n",
              "  <div id=\"df-0900af1c-0cf9-4ce7-ab83-2ec31db17034\">\n",
              "    <div class=\"colab-df-container\">\n",
              "      <div>\n",
              "<style scoped>\n",
              "    .dataframe tbody tr th:only-of-type {\n",
              "        vertical-align: middle;\n",
              "    }\n",
              "\n",
              "    .dataframe tbody tr th {\n",
              "        vertical-align: top;\n",
              "    }\n",
              "\n",
              "    .dataframe thead th {\n",
              "        text-align: right;\n",
              "    }\n",
              "</style>\n",
              "<table border=\"1\" class=\"dataframe\">\n",
              "  <thead>\n",
              "    <tr style=\"text-align: right;\">\n",
              "      <th></th>\n",
              "      <th>text</th>\n",
              "      <th>FACILITIES#CLEANLINESS</th>\n",
              "      <th>FACILITIES#COMFORT</th>\n",
              "      <th>FACILITIES#DESIGN_FEATURES</th>\n",
              "      <th>FACILITIES#GENERAL</th>\n",
              "      <th>FACILITIES#MISCELLANEOUS</th>\n",
              "      <th>FACILITIES#PRICES</th>\n",
              "      <th>FACILITIES#QUALITY</th>\n",
              "      <th>FOOD_DRINKS#MISCELLANEOUS</th>\n",
              "      <th>FOOD_DRINKS#PRICES</th>\n",
              "      <th>...</th>\n",
              "      <th>ROOMS#PRICES</th>\n",
              "      <th>ROOMS#QUALITY</th>\n",
              "      <th>ROOMS_AMENITIES#CLEANLINESS</th>\n",
              "      <th>ROOMS_AMENITIES#COMFORT</th>\n",
              "      <th>ROOMS_AMENITIES#DESIGN_FEATURES</th>\n",
              "      <th>ROOMS_AMENITIES#GENERAL</th>\n",
              "      <th>ROOMS_AMENITIES#MISCELLANEOUS</th>\n",
              "      <th>ROOMS_AMENITIES#PRICES</th>\n",
              "      <th>ROOMS_AMENITIES#QUALITY</th>\n",
              "      <th>SERVICE#GENERAL</th>\n",
              "    </tr>\n",
              "  </thead>\n",
              "  <tbody>\n",
              "    <tr>\n",
              "      <th>3830</th>\n",
              "      <td>مواقف السيارات قليله</td>\n",
              "      <td>0</td>\n",
              "      <td>0</td>\n",
              "      <td>1</td>\n",
              "      <td>0</td>\n",
              "      <td>0</td>\n",
              "      <td>0</td>\n",
              "      <td>0</td>\n",
              "      <td>0</td>\n",
              "      <td>0</td>\n",
              "      <td>...</td>\n",
              "      <td>0</td>\n",
              "      <td>0</td>\n",
              "      <td>0</td>\n",
              "      <td>0</td>\n",
              "      <td>0</td>\n",
              "      <td>0</td>\n",
              "      <td>0</td>\n",
              "      <td>0</td>\n",
              "      <td>0</td>\n",
              "      <td>0</td>\n",
              "    </tr>\n",
              "    <tr>\n",
              "      <th>3831</th>\n",
              "      <td>موجود دم مفارش السرير اوراق بالحجره</td>\n",
              "      <td>0</td>\n",
              "      <td>0</td>\n",
              "      <td>0</td>\n",
              "      <td>0</td>\n",
              "      <td>0</td>\n",
              "      <td>0</td>\n",
              "      <td>0</td>\n",
              "      <td>0</td>\n",
              "      <td>0</td>\n",
              "      <td>...</td>\n",
              "      <td>0</td>\n",
              "      <td>0</td>\n",
              "      <td>1</td>\n",
              "      <td>0</td>\n",
              "      <td>0</td>\n",
              "      <td>0</td>\n",
              "      <td>0</td>\n",
              "      <td>0</td>\n",
              "      <td>0</td>\n",
              "      <td>0</td>\n",
              "    </tr>\n",
              "    <tr>\n",
              "      <th>3832</th>\n",
              "      <td>موظف الكونسيراج السوداني يحتاج دورات التعامل ا...</td>\n",
              "      <td>0</td>\n",
              "      <td>0</td>\n",
              "      <td>0</td>\n",
              "      <td>0</td>\n",
              "      <td>0</td>\n",
              "      <td>0</td>\n",
              "      <td>0</td>\n",
              "      <td>0</td>\n",
              "      <td>0</td>\n",
              "      <td>...</td>\n",
              "      <td>0</td>\n",
              "      <td>0</td>\n",
              "      <td>0</td>\n",
              "      <td>0</td>\n",
              "      <td>0</td>\n",
              "      <td>0</td>\n",
              "      <td>0</td>\n",
              "      <td>0</td>\n",
              "      <td>0</td>\n",
              "      <td>1</td>\n",
              "    </tr>\n",
              "    <tr>\n",
              "      <th>3833</th>\n",
              "      <td>موظف وحيد الاستقبال حامل للشنط</td>\n",
              "      <td>0</td>\n",
              "      <td>0</td>\n",
              "      <td>0</td>\n",
              "      <td>0</td>\n",
              "      <td>0</td>\n",
              "      <td>0</td>\n",
              "      <td>0</td>\n",
              "      <td>0</td>\n",
              "      <td>0</td>\n",
              "      <td>...</td>\n",
              "      <td>0</td>\n",
              "      <td>0</td>\n",
              "      <td>0</td>\n",
              "      <td>0</td>\n",
              "      <td>0</td>\n",
              "      <td>0</td>\n",
              "      <td>0</td>\n",
              "      <td>0</td>\n",
              "      <td>0</td>\n",
              "      <td>1</td>\n",
              "    </tr>\n",
              "    <tr>\n",
              "      <th>3834</th>\n",
              "      <td>موظفه الاستقبال محترفه يكن الفندق سيءا لديهم ش...</td>\n",
              "      <td>0</td>\n",
              "      <td>0</td>\n",
              "      <td>0</td>\n",
              "      <td>1</td>\n",
              "      <td>0</td>\n",
              "      <td>0</td>\n",
              "      <td>0</td>\n",
              "      <td>0</td>\n",
              "      <td>0</td>\n",
              "      <td>...</td>\n",
              "      <td>0</td>\n",
              "      <td>0</td>\n",
              "      <td>0</td>\n",
              "      <td>0</td>\n",
              "      <td>0</td>\n",
              "      <td>0</td>\n",
              "      <td>0</td>\n",
              "      <td>0</td>\n",
              "      <td>0</td>\n",
              "      <td>1</td>\n",
              "    </tr>\n",
              "  </tbody>\n",
              "</table>\n",
              "<p>5 rows × 35 columns</p>\n",
              "</div>\n",
              "      <button class=\"colab-df-convert\" onclick=\"convertToInteractive('df-0900af1c-0cf9-4ce7-ab83-2ec31db17034')\"\n",
              "              title=\"Convert this dataframe to an interactive table.\"\n",
              "              style=\"display:none;\">\n",
              "        \n",
              "  <svg xmlns=\"http://www.w3.org/2000/svg\" height=\"24px\"viewBox=\"0 0 24 24\"\n",
              "       width=\"24px\">\n",
              "    <path d=\"M0 0h24v24H0V0z\" fill=\"none\"/>\n",
              "    <path d=\"M18.56 5.44l.94 2.06.94-2.06 2.06-.94-2.06-.94-.94-2.06-.94 2.06-2.06.94zm-11 1L8.5 8.5l.94-2.06 2.06-.94-2.06-.94L8.5 2.5l-.94 2.06-2.06.94zm10 10l.94 2.06.94-2.06 2.06-.94-2.06-.94-.94-2.06-.94 2.06-2.06.94z\"/><path d=\"M17.41 7.96l-1.37-1.37c-.4-.4-.92-.59-1.43-.59-.52 0-1.04.2-1.43.59L10.3 9.45l-7.72 7.72c-.78.78-.78 2.05 0 2.83L4 21.41c.39.39.9.59 1.41.59.51 0 1.02-.2 1.41-.59l7.78-7.78 2.81-2.81c.8-.78.8-2.07 0-2.86zM5.41 20L4 18.59l7.72-7.72 1.47 1.35L5.41 20z\"/>\n",
              "  </svg>\n",
              "      </button>\n",
              "      \n",
              "  <style>\n",
              "    .colab-df-container {\n",
              "      display:flex;\n",
              "      flex-wrap:wrap;\n",
              "      gap: 12px;\n",
              "    }\n",
              "\n",
              "    .colab-df-convert {\n",
              "      background-color: #E8F0FE;\n",
              "      border: none;\n",
              "      border-radius: 50%;\n",
              "      cursor: pointer;\n",
              "      display: none;\n",
              "      fill: #1967D2;\n",
              "      height: 32px;\n",
              "      padding: 0 0 0 0;\n",
              "      width: 32px;\n",
              "    }\n",
              "\n",
              "    .colab-df-convert:hover {\n",
              "      background-color: #E2EBFA;\n",
              "      box-shadow: 0px 1px 2px rgba(60, 64, 67, 0.3), 0px 1px 3px 1px rgba(60, 64, 67, 0.15);\n",
              "      fill: #174EA6;\n",
              "    }\n",
              "\n",
              "    [theme=dark] .colab-df-convert {\n",
              "      background-color: #3B4455;\n",
              "      fill: #D2E3FC;\n",
              "    }\n",
              "\n",
              "    [theme=dark] .colab-df-convert:hover {\n",
              "      background-color: #434B5C;\n",
              "      box-shadow: 0px 1px 3px 1px rgba(0, 0, 0, 0.15);\n",
              "      filter: drop-shadow(0px 1px 2px rgba(0, 0, 0, 0.3));\n",
              "      fill: #FFFFFF;\n",
              "    }\n",
              "  </style>\n",
              "\n",
              "      <script>\n",
              "        const buttonEl =\n",
              "          document.querySelector('#df-0900af1c-0cf9-4ce7-ab83-2ec31db17034 button.colab-df-convert');\n",
              "        buttonEl.style.display =\n",
              "          google.colab.kernel.accessAllowed ? 'block' : 'none';\n",
              "\n",
              "        async function convertToInteractive(key) {\n",
              "          const element = document.querySelector('#df-0900af1c-0cf9-4ce7-ab83-2ec31db17034');\n",
              "          const dataTable =\n",
              "            await google.colab.kernel.invokeFunction('convertToInteractive',\n",
              "                                                     [key], {});\n",
              "          if (!dataTable) return;\n",
              "\n",
              "          const docLinkHtml = 'Like what you see? Visit the ' +\n",
              "            '<a target=\"_blank\" href=https://colab.research.google.com/notebooks/data_table.ipynb>data table notebook</a>'\n",
              "            + ' to learn more about interactive tables.';\n",
              "          element.innerHTML = '';\n",
              "          dataTable['output_type'] = 'display_data';\n",
              "          await google.colab.output.renderOutput(dataTable, element);\n",
              "          const docLink = document.createElement('div');\n",
              "          docLink.innerHTML = docLinkHtml;\n",
              "          element.appendChild(docLink);\n",
              "        }\n",
              "      </script>\n",
              "    </div>\n",
              "  </div>\n",
              "  "
            ]
          },
          "metadata": {},
          "execution_count": 46
        }
      ],
      "source": [
        "new_df = df_process(train_df)\n",
        "new_df.head()"
      ]
    },
    {
      "cell_type": "code",
      "execution_count": null,
      "metadata": {
        "colab": {
          "base_uri": "https://localhost:8080/"
        },
        "id": "4qy0TeVcykOm",
        "outputId": "1b25f5dc-540d-446a-ae84-f7a636e0ff42"
      },
      "outputs": [
        {
          "output_type": "stream",
          "name": "stdout",
          "text": [
            "Requirement already satisfied: transformers in /usr/local/lib/python3.7/dist-packages (4.18.0)\n",
            "Requirement already satisfied: tqdm>=4.27 in /usr/local/lib/python3.7/dist-packages (from transformers) (4.64.0)\n",
            "Requirement already satisfied: pyyaml>=5.1 in /usr/local/lib/python3.7/dist-packages (from transformers) (6.0)\n",
            "Requirement already satisfied: regex!=2019.12.17 in /usr/local/lib/python3.7/dist-packages (from transformers) (2019.12.20)\n",
            "Requirement already satisfied: requests in /usr/local/lib/python3.7/dist-packages (from transformers) (2.23.0)\n",
            "Requirement already satisfied: filelock in /usr/local/lib/python3.7/dist-packages (from transformers) (3.6.0)\n",
            "Requirement already satisfied: packaging>=20.0 in /usr/local/lib/python3.7/dist-packages (from transformers) (21.3)\n",
            "Requirement already satisfied: sacremoses in /usr/local/lib/python3.7/dist-packages (from transformers) (0.0.49)\n",
            "Requirement already satisfied: numpy>=1.17 in /usr/local/lib/python3.7/dist-packages (from transformers) (1.21.6)\n",
            "Requirement already satisfied: huggingface-hub<1.0,>=0.1.0 in /usr/local/lib/python3.7/dist-packages (from transformers) (0.5.1)\n",
            "Requirement already satisfied: importlib-metadata in /usr/local/lib/python3.7/dist-packages (from transformers) (4.11.3)\n",
            "Requirement already satisfied: tokenizers!=0.11.3,<0.13,>=0.11.1 in /usr/local/lib/python3.7/dist-packages (from transformers) (0.12.1)\n",
            "Requirement already satisfied: typing-extensions>=3.7.4.3 in /usr/local/lib/python3.7/dist-packages (from huggingface-hub<1.0,>=0.1.0->transformers) (4.2.0)\n",
            "Requirement already satisfied: pyparsing!=3.0.5,>=2.0.2 in /usr/local/lib/python3.7/dist-packages (from packaging>=20.0->transformers) (3.0.8)\n",
            "Requirement already satisfied: zipp>=0.5 in /usr/local/lib/python3.7/dist-packages (from importlib-metadata->transformers) (3.8.0)\n",
            "Requirement already satisfied: chardet<4,>=3.0.2 in /usr/local/lib/python3.7/dist-packages (from requests->transformers) (3.0.4)\n",
            "Requirement already satisfied: certifi>=2017.4.17 in /usr/local/lib/python3.7/dist-packages (from requests->transformers) (2021.10.8)\n",
            "Requirement already satisfied: idna<3,>=2.5 in /usr/local/lib/python3.7/dist-packages (from requests->transformers) (2.10)\n",
            "Requirement already satisfied: urllib3!=1.25.0,!=1.25.1,<1.26,>=1.21.1 in /usr/local/lib/python3.7/dist-packages (from requests->transformers) (1.24.3)\n",
            "Requirement already satisfied: click in /usr/local/lib/python3.7/dist-packages (from sacremoses->transformers) (7.1.2)\n",
            "Requirement already satisfied: joblib in /usr/local/lib/python3.7/dist-packages (from sacremoses->transformers) (1.1.0)\n",
            "Requirement already satisfied: six in /usr/local/lib/python3.7/dist-packages (from sacremoses->transformers) (1.15.0)\n"
          ]
        }
      ],
      "source": [
        "!pip install transformers"
      ]
    },
    {
      "cell_type": "markdown",
      "metadata": {
        "id": "1k5kRC6QGBGD"
      },
      "source": [
        "#**Bert Tokenization using The Pre-trained AraBERT Model Vocabulary**"
      ]
    },
    {
      "cell_type": "markdown",
      "metadata": {
        "id": "gSgDprgWH7f2"
      },
      "source": [
        "We test a sample to see the BertTokenizer at work (After importing the Arabert Model). We used bert-base-arabertv02 for the tokenization process."
      ]
    },
    {
      "cell_type": "code",
      "execution_count": null,
      "metadata": {
        "id": "uERtzYPZF_1C"
      },
      "outputs": [],
      "source": [
        "from transformers import AutoTokenizer, AdamW, get_linear_schedule_with_warmup\n",
        "BERT_MODEL_NAME = \"aubmindlab/bert-base-arabertv02\"\n",
        "\n",
        "tokenizer = AutoTokenizer.from_pretrained(BERT_MODEL_NAME)\n"
      ]
    },
    {
      "cell_type": "code",
      "execution_count": null,
      "metadata": {
        "colab": {
          "base_uri": "https://localhost:8080/"
        },
        "id": "k2YvSm5vnHqW",
        "outputId": "714ead6d-50cf-4938-b5da-1adf0baa1497"
      },
      "outputs": [
        {
          "output_type": "execute_result",
          "data": {
            "text/plain": [
              "34"
            ]
          },
          "metadata": {},
          "execution_count": 49
        }
      ],
      "source": [
        "MAX_LENGTH = 128\n",
        "NUM_LABELS = len(new_df.drop(\"text\", axis=1).columns)\n",
        "NUM_LABELS"
      ]
    },
    {
      "cell_type": "code",
      "execution_count": null,
      "metadata": {
        "id": "Ty1Cv5U2GyfJ"
      },
      "outputs": [],
      "source": [
        "smpl = new_df.sample()\n",
        "sample_text = \" \".join(smpl[\"text\"])\n",
        "sample_labels = smpl.drop(\"text\", axis=1).values"
      ]
    },
    {
      "cell_type": "markdown",
      "metadata": {
        "id": "U-xWTHV59BYG"
      },
      "source": [
        "We can try the tokenization process that is provided in the BERT pretrained model with a sample line or review"
      ]
    },
    {
      "cell_type": "code",
      "execution_count": null,
      "metadata": {
        "colab": {
          "base_uri": "https://localhost:8080/"
        },
        "id": "tadKuQ_NvoEc",
        "outputId": "897b0ef2-448a-4fc9-8333-26853ce6892f"
      },
      "outputs": [
        {
          "output_type": "stream",
          "name": "stdout",
          "text": [
            " هَذِهِ الخِدْمَاتُ جَيِّدَةٌ فِي هَذَا الفُنْدُقِ وَ يَسْتَحِقُّ كُلَّ النُّجومِ الخَمْسَةِ . لَقَدْ اسْتَمْتَعْتَ بِاَلْاَيّامِ اَلَّتِي قَضَيْتُها هُنَا كَثِيرًا و اتَّطَلَّعَ لِلزِّيَارَةِ المُقْبِلَةِ\n",
            "[2, 2273, 4848, 195, 11219, 6655, 7414, 7670, 195, 1980, 43998, 228, 3144, 1997, 46195, 682, 2144, 47695, 4338, 1297, 195, 3]\n",
            "['[CLS]', 'الخدمات', 'جيد', '##ه', 'الفندق', 'يستحق', 'النجوم', 'الخمس', '##ه', 'لقد', 'استمتع', '##ت', 'بالا', '##يام', 'قضيتها', 'ات', '##طلع', 'للزي', '##اره', 'المقبل', '##ه', '[SEP]']\n"
          ]
        }
      ],
      "source": [
        "sample = ''' هَذِهِ الخِدْمَاتُ جَيِّدَةٌ فِي هَذَا الفُنْدُقِ وَ يَسْتَحِقُّ كُلَّ النُّجومِ الخَمْسَةِ . لَقَدْ اسْتَمْتَعْتَ بِاَلْاَيّامِ اَلَّتِي قَضَيْتُها هُنَا كَثِيرًا و اتَّطَلَّعَ لِلزِّيَارَةِ المُقْبِلَةِ'''\n",
        "\n",
        "print(sample)\n",
        "# for the tokenization we need to remove diacritics from the sample so that it can be recognized.\n",
        "sample = normalize_text(sample)\n",
        "\n",
        "encoding = tokenizer.encode(sample)\n",
        "print(encoding)\n",
        "print(tokenizer.convert_ids_to_tokens(encoding))"
      ]
    },
    {
      "cell_type": "code",
      "execution_count": null,
      "metadata": {
        "id": "TDEvBoF_DV7b"
      },
      "outputs": [],
      "source": [
        "features = tokenizer.encode_plus(sample, padding='max_length', add_special_tokens=True, return_attention_mask=True, return_token_type_ids=True, return_tensors='pt', max_length=MAX_LENGTH)"
      ]
    },
    {
      "cell_type": "markdown",
      "metadata": {
        "id": "8DbsUxaw9TxM"
      },
      "source": [
        "The tokenizer encoding returns an array of input ids. We can get back the tokens from those Ids with the convert_ids_to_tokens method inside the tokenizer\n",
        "Let's try it in our example: "
      ]
    },
    {
      "cell_type": "code",
      "execution_count": null,
      "metadata": {
        "colab": {
          "base_uri": "https://localhost:8080/"
        },
        "id": "YnVqnPKqsdcw",
        "outputId": "c5043a86-67f5-4ef7-b4aa-2f8ed04fe82b"
      },
      "outputs": [
        {
          "output_type": "stream",
          "name": "stdout",
          "text": [
            "['[CLS]', 'الخدمات', 'جيد', '##ه', 'الفندق', 'يستحق', 'النجوم', 'الخمس', '##ه', 'لقد', 'استمتع', '##ت', 'بالا', '##يام', 'قضيتها', 'ات', '##طلع', 'للزي', '##اره', 'المقبل', '##ه', '[SEP]', '[PAD]', '[PAD]', '[PAD]', '[PAD]', '[PAD]', '[PAD]', '[PAD]', '[PAD]']\n"
          ]
        }
      ],
      "source": [
        "tokens = tokenizer.convert_ids_to_tokens(features[\"input_ids\"].squeeze()[:30])\n",
        "print(tokens)"
      ]
    },
    {
      "cell_type": "markdown",
      "metadata": {
        "id": "94QFpflq9kGF"
      },
      "source": [
        "The attention mask allows to mask the tokens in our sentence with value of 1 and the padding tokens are registred with value 0"
      ]
    },
    {
      "cell_type": "code",
      "execution_count": null,
      "metadata": {
        "colab": {
          "base_uri": "https://localhost:8080/"
        },
        "id": "0T5w4VPPBKOQ",
        "outputId": "c1263bbc-cec5-40ac-919b-7f60b6f78d4b"
      },
      "outputs": [
        {
          "output_type": "stream",
          "name": "stdout",
          "text": [
            "[1 1 1 1 1 1 1 1 1 1 1 1 1 1 1 1 1 1 1 1 1 1 0 0 0 0 0 0 0 0 0 0 0 0 0 0 0\n",
            " 0 0 0 0 0 0 0 0 0 0 0 0 0 0 0 0 0 0 0 0 0 0 0 0 0 0 0 0 0 0 0 0 0 0 0 0 0\n",
            " 0 0 0 0 0 0 0 0 0 0 0 0 0 0 0 0 0 0 0 0 0 0 0 0 0 0 0 0 0 0 0 0 0 0 0 0 0\n",
            " 0 0 0 0 0 0 0 0 0 0 0 0 0 0 0 0 0]\n"
          ]
        }
      ],
      "source": [
        "input_masks = features[\"attention_mask\"].numpy().flatten()\n",
        "print(input_masks)"
      ]
    },
    {
      "cell_type": "code",
      "execution_count": null,
      "metadata": {
        "id": "QTlNakluzICu"
      },
      "outputs": [],
      "source": [
        "tokens_count = []\n",
        "\n",
        "for _, row in train_df.iterrows():\n",
        "  token_count = len(tokenizer.encode(\n",
        "      row[\"text\"],\n",
        "      max_length=MAX_LENGTH,\n",
        "      truncation=True\n",
        "  ))\n",
        "  tokens_count.append(token_count)"
      ]
    },
    {
      "cell_type": "markdown",
      "metadata": {
        "id": "JsLh99TM90Ad"
      },
      "source": [
        "We can visualize the frequency of the token count in our dataset"
      ]
    },
    {
      "cell_type": "code",
      "execution_count": null,
      "metadata": {
        "colab": {
          "base_uri": "https://localhost:8080/",
          "height": 282
        },
        "id": "_DbK1m2wzy3r",
        "outputId": "e04fab7e-c4d0-4829-8de9-9dc17f1b8df4"
      },
      "outputs": [
        {
          "output_type": "execute_result",
          "data": {
            "text/plain": [
              "(0.0, 256.0)"
            ]
          },
          "metadata": {},
          "execution_count": 56
        },
        {
          "output_type": "display_data",
          "data": {
            "text/plain": [
              "<Figure size 432x288 with 1 Axes>"
            ],
            "image/png": "[encoded data removed]"
          },
          "metadata": {
            "needs_background": "light"
          }
        }
      ],
      "source": [
        "sns.histplot(tokens_count)\n",
        "plt.xlim([0,256])"
      ]
    },
    {
      "cell_type": "markdown",
      "metadata": {
        "id": "6eGoV_39980o"
      },
      "source": [
        "By looking at the plot, we can choose the appropriate value for the max token count by its frequency. For this purpose we chose the MAX_TOKEN_LENGTH to be equal to 128."
      ]
    },
    {
      "cell_type": "markdown",
      "metadata": {
        "id": "4QxWfbom-XVW"
      },
      "source": [
        "To build our model, we proceeded to use the Pytorch Framework for our case as it provides better object oriented approach (which we will be using later on) compared to the Tensorflow framework"
      ]
    },
    {
      "cell_type": "code",
      "execution_count": null,
      "metadata": {
        "id": "tP9yVu_6j1mp",
        "colab": {
          "base_uri": "https://localhost:8080/"
        },
        "outputId": "1588bb88-1ffa-4f36-8e36-e278dc252ef0"
      },
      "outputs": [
        {
          "output_type": "stream",
          "name": "stdout",
          "text": [
            "Requirement already satisfied: pytorch-lightning in /usr/local/lib/python3.7/dist-packages (1.6.1)\n",
            "Requirement already satisfied: torch>=1.8.* in /usr/local/lib/python3.7/dist-packages (from pytorch-lightning) (1.11.0+cu113)\n",
            "Requirement already satisfied: numpy>=1.17.2 in /usr/local/lib/python3.7/dist-packages (from pytorch-lightning) (1.21.6)\n",
            "Requirement already satisfied: fsspec[http]!=2021.06.0,>=2021.05.0 in /usr/local/lib/python3.7/dist-packages (from pytorch-lightning) (2022.3.0)\n",
            "Requirement already satisfied: pyDeprecate<0.4.0,>=0.3.1 in /usr/local/lib/python3.7/dist-packages (from pytorch-lightning) (0.3.2)\n",
            "Requirement already satisfied: tqdm>=4.41.0 in /usr/local/lib/python3.7/dist-packages (from pytorch-lightning) (4.64.0)\n",
            "Requirement already satisfied: tensorboard>=2.2.0 in /usr/local/lib/python3.7/dist-packages (from pytorch-lightning) (2.8.0)\n",
            "Requirement already satisfied: torchmetrics>=0.4.1 in /usr/local/lib/python3.7/dist-packages (from pytorch-lightning) (0.8.1)\n",
            "Requirement already satisfied: packaging>=17.0 in /usr/local/lib/python3.7/dist-packages (from pytorch-lightning) (21.3)\n",
            "Requirement already satisfied: typing-extensions>=4.0.0 in /usr/local/lib/python3.7/dist-packages (from pytorch-lightning) (4.2.0)\n",
            "Requirement already satisfied: PyYAML>=5.4 in /usr/local/lib/python3.7/dist-packages (from pytorch-lightning) (6.0)\n",
            "Requirement already satisfied: aiohttp in /usr/local/lib/python3.7/dist-packages (from fsspec[http]!=2021.06.0,>=2021.05.0->pytorch-lightning) (3.8.1)\n",
            "Requirement already satisfied: requests in /usr/local/lib/python3.7/dist-packages (from fsspec[http]!=2021.06.0,>=2021.05.0->pytorch-lightning) (2.23.0)\n",
            "Requirement already satisfied: pyparsing!=3.0.5,>=2.0.2 in /usr/local/lib/python3.7/dist-packages (from packaging>=17.0->pytorch-lightning) (3.0.8)\n",
            "Requirement already satisfied: absl-py>=0.4 in /usr/local/lib/python3.7/dist-packages (from tensorboard>=2.2.0->pytorch-lightning) (1.0.0)\n",
            "Requirement already satisfied: werkzeug>=0.11.15 in /usr/local/lib/python3.7/dist-packages (from tensorboard>=2.2.0->pytorch-lightning) (1.0.1)\n",
            "Requirement already satisfied: tensorboard-data-server<0.7.0,>=0.6.0 in /usr/local/lib/python3.7/dist-packages (from tensorboard>=2.2.0->pytorch-lightning) (0.6.1)\n",
            "Requirement already satisfied: tensorboard-plugin-wit>=1.6.0 in /usr/local/lib/python3.7/dist-packages (from tensorboard>=2.2.0->pytorch-lightning) (1.8.1)\n",
            "Requirement already satisfied: setuptools>=41.0.0 in /usr/local/lib/python3.7/dist-packages (from tensorboard>=2.2.0->pytorch-lightning) (57.4.0)\n",
            "Requirement already satisfied: google-auth<3,>=1.6.3 in /usr/local/lib/python3.7/dist-packages (from tensorboard>=2.2.0->pytorch-lightning) (1.35.0)\n",
            "Requirement already satisfied: grpcio>=1.24.3 in /usr/local/lib/python3.7/dist-packages (from tensorboard>=2.2.0->pytorch-lightning) (1.44.0)\n",
            "Requirement already satisfied: protobuf>=3.6.0 in /usr/local/lib/python3.7/dist-packages (from tensorboard>=2.2.0->pytorch-lightning) (3.17.3)\n",
            "Requirement already satisfied: google-auth-oauthlib<0.5,>=0.4.1 in /usr/local/lib/python3.7/dist-packages (from tensorboard>=2.2.0->pytorch-lightning) (0.4.6)\n",
            "Requirement already satisfied: wheel>=0.26 in /usr/local/lib/python3.7/dist-packages (from tensorboard>=2.2.0->pytorch-lightning) (0.37.1)\n",
            "Requirement already satisfied: markdown>=2.6.8 in /usr/local/lib/python3.7/dist-packages (from tensorboard>=2.2.0->pytorch-lightning) (3.3.6)\n",
            "Requirement already satisfied: six in /usr/local/lib/python3.7/dist-packages (from absl-py>=0.4->tensorboard>=2.2.0->pytorch-lightning) (1.15.0)\n",
            "Requirement already satisfied: pyasn1-modules>=0.2.1 in /usr/local/lib/python3.7/dist-packages (from google-auth<3,>=1.6.3->tensorboard>=2.2.0->pytorch-lightning) (0.2.8)\n",
            "Requirement already satisfied: rsa<5,>=3.1.4 in /usr/local/lib/python3.7/dist-packages (from google-auth<3,>=1.6.3->tensorboard>=2.2.0->pytorch-lightning) (4.8)\n",
            "Requirement already satisfied: cachetools<5.0,>=2.0.0 in /usr/local/lib/python3.7/dist-packages (from google-auth<3,>=1.6.3->tensorboard>=2.2.0->pytorch-lightning) (4.2.4)\n",
            "Requirement already satisfied: requests-oauthlib>=0.7.0 in /usr/local/lib/python3.7/dist-packages (from google-auth-oauthlib<0.5,>=0.4.1->tensorboard>=2.2.0->pytorch-lightning) (1.3.1)\n",
            "Requirement already satisfied: importlib-metadata>=4.4 in /usr/local/lib/python3.7/dist-packages (from markdown>=2.6.8->tensorboard>=2.2.0->pytorch-lightning) (4.11.3)\n",
            "Requirement already satisfied: zipp>=0.5 in /usr/local/lib/python3.7/dist-packages (from importlib-metadata>=4.4->markdown>=2.6.8->tensorboard>=2.2.0->pytorch-lightning) (3.8.0)\n",
            "Requirement already satisfied: pyasn1<0.5.0,>=0.4.6 in /usr/local/lib/python3.7/dist-packages (from pyasn1-modules>=0.2.1->google-auth<3,>=1.6.3->tensorboard>=2.2.0->pytorch-lightning) (0.4.8)\n",
            "Requirement already satisfied: certifi>=2017.4.17 in /usr/local/lib/python3.7/dist-packages (from requests->fsspec[http]!=2021.06.0,>=2021.05.0->pytorch-lightning) (2021.10.8)\n",
            "Requirement already satisfied: urllib3!=1.25.0,!=1.25.1,<1.26,>=1.21.1 in /usr/local/lib/python3.7/dist-packages (from requests->fsspec[http]!=2021.06.0,>=2021.05.0->pytorch-lightning) (1.24.3)\n",
            "Requirement already satisfied: idna<3,>=2.5 in /usr/local/lib/python3.7/dist-packages (from requests->fsspec[http]!=2021.06.0,>=2021.05.0->pytorch-lightning) (2.10)\n",
            "Requirement already satisfied: chardet<4,>=3.0.2 in /usr/local/lib/python3.7/dist-packages (from requests->fsspec[http]!=2021.06.0,>=2021.05.0->pytorch-lightning) (3.0.4)\n",
            "Requirement already satisfied: oauthlib>=3.0.0 in /usr/local/lib/python3.7/dist-packages (from requests-oauthlib>=0.7.0->google-auth-oauthlib<0.5,>=0.4.1->tensorboard>=2.2.0->pytorch-lightning) (3.2.0)\n",
            "Requirement already satisfied: attrs>=17.3.0 in /usr/local/lib/python3.7/dist-packages (from aiohttp->fsspec[http]!=2021.06.0,>=2021.05.0->pytorch-lightning) (21.4.0)\n",
            "Requirement already satisfied: asynctest==0.13.0 in /usr/local/lib/python3.7/dist-packages (from aiohttp->fsspec[http]!=2021.06.0,>=2021.05.0->pytorch-lightning) (0.13.0)\n",
            "Requirement already satisfied: frozenlist>=1.1.1 in /usr/local/lib/python3.7/dist-packages (from aiohttp->fsspec[http]!=2021.06.0,>=2021.05.0->pytorch-lightning) (1.3.0)\n",
            "Requirement already satisfied: yarl<2.0,>=1.0 in /usr/local/lib/python3.7/dist-packages (from aiohttp->fsspec[http]!=2021.06.0,>=2021.05.0->pytorch-lightning) (1.7.2)\n",
            "Requirement already satisfied: charset-normalizer<3.0,>=2.0 in /usr/local/lib/python3.7/dist-packages (from aiohttp->fsspec[http]!=2021.06.0,>=2021.05.0->pytorch-lightning) (2.0.12)\n",
            "Requirement already satisfied: multidict<7.0,>=4.5 in /usr/local/lib/python3.7/dist-packages (from aiohttp->fsspec[http]!=2021.06.0,>=2021.05.0->pytorch-lightning) (6.0.2)\n",
            "Requirement already satisfied: async-timeout<5.0,>=4.0.0a3 in /usr/local/lib/python3.7/dist-packages (from aiohttp->fsspec[http]!=2021.06.0,>=2021.05.0->pytorch-lightning) (4.0.2)\n",
            "Requirement already satisfied: aiosignal>=1.1.2 in /usr/local/lib/python3.7/dist-packages (from aiohttp->fsspec[http]!=2021.06.0,>=2021.05.0->pytorch-lightning) (1.2.0)\n",
            "Requirement already satisfied: torchmetrics in /usr/local/lib/python3.7/dist-packages (0.8.1)\n",
            "Requirement already satisfied: pyDeprecate==0.3.* in /usr/local/lib/python3.7/dist-packages (from torchmetrics) (0.3.2)\n",
            "Requirement already satisfied: packaging in /usr/local/lib/python3.7/dist-packages (from torchmetrics) (21.3)\n",
            "Requirement already satisfied: torch>=1.3.1 in /usr/local/lib/python3.7/dist-packages (from torchmetrics) (1.11.0+cu113)\n",
            "Requirement already satisfied: numpy>=1.17.2 in /usr/local/lib/python3.7/dist-packages (from torchmetrics) (1.21.6)\n",
            "Requirement already satisfied: typing-extensions in /usr/local/lib/python3.7/dist-packages (from torch>=1.3.1->torchmetrics) (4.2.0)\n",
            "Requirement already satisfied: pyparsing!=3.0.5,>=2.0.2 in /usr/local/lib/python3.7/dist-packages (from packaging->torchmetrics) (3.0.8)\n"
          ]
        }
      ],
      "source": [
        "!pip install pytorch-lightning\n",
        "!pip install torchmetrics"
      ]
    },
    {
      "cell_type": "markdown",
      "metadata": {
        "id": "hs7kHhd0wOaD"
      },
      "source": [
        "# **Dataset**\n",
        "Firs we define the Hotel Review Dataset in a Pytorch Dataset and converting the labels to tensors"
      ]
    },
    {
      "cell_type": "code",
      "execution_count": null,
      "metadata": {
        "id": "pdtIVkRn432e",
        "colab": {
          "base_uri": "https://localhost:8080/",
          "height": 374
        },
        "outputId": "75a0e273-f1fa-4208-dc1c-5315bdc4e543"
      },
      "outputs": [
        {
          "output_type": "error",
          "ename": "ImportError",
          "evalue": "ignored",
          "traceback": [
            "\u001b[0;31m---------------------------------------------------------------------------\u001b[0m",
            "\u001b[0;31mImportError\u001b[0m                               Traceback (most recent call last)",
            "\u001b[0;32m<ipython-input-58-514f0cdde4c8>\u001b[0m in \u001b[0;36m<module>\u001b[0;34m()\u001b[0m\n\u001b[1;32m      3\u001b[0m \u001b[0;32mfrom\u001b[0m \u001b[0mtorch\u001b[0m\u001b[0;34m.\u001b[0m\u001b[0mutils\u001b[0m\u001b[0;34m.\u001b[0m\u001b[0mdata\u001b[0m \u001b[0;32mimport\u001b[0m \u001b[0mDataLoader\u001b[0m\u001b[0;34m,\u001b[0m \u001b[0mDataset\u001b[0m\u001b[0;34m\u001b[0m\u001b[0;34m\u001b[0m\u001b[0m\n\u001b[1;32m      4\u001b[0m \u001b[0;32mimport\u001b[0m \u001b[0mpytorch_lightning\u001b[0m \u001b[0;32mas\u001b[0m \u001b[0mpl\u001b[0m\u001b[0;34m\u001b[0m\u001b[0;34m\u001b[0m\u001b[0m\n\u001b[0;32m----> 5\u001b[0;31m \u001b[0;32mfrom\u001b[0m \u001b[0mtorchmetrics\u001b[0m\u001b[0;34m.\u001b[0m\u001b[0mfunctional\u001b[0m \u001b[0;32mimport\u001b[0m \u001b[0mauroc\u001b[0m\u001b[0;34m,\u001b[0m \u001b[0maccuracy\u001b[0m\u001b[0;34m,\u001b[0m \u001b[0mf1\u001b[0m\u001b[0;34m\u001b[0m\u001b[0;34m\u001b[0m\u001b[0m\n\u001b[0m\u001b[1;32m      6\u001b[0m \u001b[0;32mfrom\u001b[0m \u001b[0mpytorch_lightning\u001b[0m\u001b[0;34m.\u001b[0m\u001b[0mcallbacks\u001b[0m \u001b[0;32mimport\u001b[0m \u001b[0mModelCheckpoint\u001b[0m\u001b[0;34m,\u001b[0m \u001b[0mEarlyStopping\u001b[0m\u001b[0;34m\u001b[0m\u001b[0;34m\u001b[0m\u001b[0m\n\u001b[1;32m      7\u001b[0m \u001b[0;32mfrom\u001b[0m \u001b[0mpytorch_lightning\u001b[0m\u001b[0;34m.\u001b[0m\u001b[0mloggers\u001b[0m \u001b[0;32mimport\u001b[0m \u001b[0mTensorBoardLogger\u001b[0m\u001b[0;34m\u001b[0m\u001b[0;34m\u001b[0m\u001b[0m\n",
            "\u001b[0;31mImportError\u001b[0m: cannot import name 'f1' from 'torchmetrics.functional' (/usr/local/lib/python3.7/dist-packages/torchmetrics/functional/__init__.py)",
            "",
            "\u001b[0;31m---------------------------------------------------------------------------\u001b[0;32m\nNOTE: If your import is failing due to a missing package, you can\nmanually install dependencies using either !pip or !apt.\n\nTo view examples of installing some common dependencies, click the\n\"Open Examples\" button below.\n\u001b[0;31m---------------------------------------------------------------------------\u001b[0m\n"
          ],
          "errorDetails": {
            "actions": [
              {
                "action": "open_url",
                "actionText": "Open Examples",
                "url": "/notebooks/snippets/importing_libraries.ipynb"
              }
            ]
          }
        }
      ],
      "source": [
        "import torch\n",
        "import torch.nn as nn\n",
        "from torch.utils.data import DataLoader, Dataset\n",
        "import pytorch_lightning as pl\n",
        "from torchmetrics.functional import auroc, accuracy, f1\n",
        "from pytorch_lightning.callbacks import ModelCheckpoint, EarlyStopping\n",
        "from pytorch_lightning.loggers import TensorBoardLogger\n"
      ]
    },
    {
      "cell_type": "markdown",
      "metadata": {
        "id": "WMweQLpYxzKC"
      },
      "source": [
        "Creating our wrapper dataset along with the tokenization process then converting the labels into tensors."
      ]
    },
    {
      "cell_type": "code",
      "execution_count": null,
      "metadata": {
        "id": "BlyJxS-u4gqk"
      },
      "outputs": [],
      "source": [
        "class HotelReviewDataset(Dataset):\n",
        "\n",
        "  def __init__(\n",
        "    self, \n",
        "    data: pd.DataFrame, \n",
        "    tokenizer: AutoTokenizer, \n",
        "    max_token_len: int = 128\n",
        "  ):\n",
        "    self.tokenizer = tokenizer\n",
        "    self.data = data\n",
        "    self.max_token_len = max_token_len\n",
        "    \n",
        "  def __len__(self):\n",
        "    return len(self.data)\n",
        "\n",
        "  def __getitem__(self, index: int): \n",
        "    data_row = self.data.iloc[index]\n",
        "\n",
        "    text = data_row.text\n",
        "    labels = data_row[LABEL_COLUMNS]\n",
        "\n",
        "    encoding = self.tokenizer.encode_plus(\n",
        "      text,\n",
        "      add_special_tokens=True,\n",
        "      max_length=self.max_token_len,\n",
        "      return_token_type_ids=False,\n",
        "      padding=\"max_length\",\n",
        "      truncation=True,\n",
        "      return_attention_mask=True,\n",
        "      return_tensors='pt',\n",
        "    )\n",
        "\n",
        "    return dict(\n",
        "      text=text,\n",
        "      input_ids=encoding[\"input_ids\"].flatten(),\n",
        "      attention_mask=encoding[\"attention_mask\"].flatten(),\n",
        "      labels=torch.FloatTensor(labels)\n",
        "    )"
      ]
    },
    {
      "cell_type": "markdown",
      "metadata": {
        "id": "i3UPSUYJyFA1"
      },
      "source": [
        "We can check the size of the size of the tensors. For this example we took the first row in the dataset."
      ]
    },
    {
      "cell_type": "code",
      "execution_count": null,
      "metadata": {
        "id": "9aXYyBc26uuD"
      },
      "outputs": [],
      "source": [
        "train_dataset = HotelReviewDataset(\n",
        "    train_df,\n",
        "    tokenizer,\n",
        "    max_token_len=MAX_LENGTH\n",
        ")\n",
        "train_dataset[0][\"input_ids\"].shape"
      ]
    },
    {
      "cell_type": "markdown",
      "metadata": {
        "id": "cWF9-mnnyXan"
      },
      "source": [
        "We define the batch size that will be used when building the model and the number of workers. We also declared the used metric for the classification. The batch size can be increased further but we chose to keep it that way due to memory limiations in the Colab."
      ]
    },
    {
      "cell_type": "code",
      "execution_count": null,
      "metadata": {
        "id": "-XfQULbPfAAy"
      },
      "outputs": [],
      "source": [
        "BATCH_SIZE = 8\n",
        "NUM_WORKERS = 2\n",
        "METRIC_NAME = \"f1\""
      ]
    },
    {
      "cell_type": "markdown",
      "metadata": {
        "id": "hwU9r2RzwqRN"
      },
      "source": [
        "Importing the BERTModel from the huggingface repository.\n",
        "The used model is \"aubmindlab/bert-base-arabertv02\".\n",
        "We used this model because it's more lightweight than the large one which has more attention heads and a larger hidden size."
      ]
    },
    {
      "cell_type": "code",
      "execution_count": null,
      "metadata": {
        "id": "ZB9yRfHP8Pkj"
      },
      "outputs": [],
      "source": [
        "from transformers import BertModel\n",
        "\n",
        "bert_model = BertModel.from_pretrained(BERT_MODEL_NAME, return_dict=True)"
      ]
    },
    {
      "cell_type": "markdown",
      "metadata": {
        "id": "_aDO_N77w-EV"
      },
      "source": [
        "We can test with a sample batch then checking if it has the right shape"
      ]
    },
    {
      "cell_type": "code",
      "execution_count": null,
      "metadata": {
        "id": "KrKHahZh8t7F"
      },
      "outputs": [],
      "source": [
        "sample_batch = next(iter(DataLoader(train_dataset, batch_size=BATCH_SIZE, num_workers=NUM_WORKERS)))\n",
        "sample_batch[\"input_ids\"].shape, sample_batch[\"attention_mask\"].shape"
      ]
    },
    {
      "cell_type": "markdown",
      "metadata": {
        "id": "FxXjKynZxVht"
      },
      "source": [
        "Wrapping our hotel review in a custom dataset"
      ]
    },
    {
      "cell_type": "code",
      "execution_count": null,
      "metadata": {
        "id": "XzoDANRVi0k4"
      },
      "outputs": [],
      "source": [
        "class HotelReviewDataModule(pl.LightningDataModule):\n",
        "\n",
        "  def __init__(self, train_df, test_df, tokenizer, batch_size=8, max_token_len=128):\n",
        "    super().__init__()\n",
        "    self.batch_size = batch_size\n",
        "    self.train_df = train_df\n",
        "    self.test_df = test_df\n",
        "    self.tokenizer = tokenizer\n",
        "    self.max_token_len = max_token_len\n",
        "\n",
        "  def setup(self, stage=None):\n",
        "    self.train_dataset = HotelReviewDataset(\n",
        "      self.train_df,\n",
        "      self.tokenizer,\n",
        "      self.max_token_len\n",
        "    )\n",
        "\n",
        "    self.test_dataset = HotelReviewDataset(\n",
        "      self.test_df,\n",
        "      self.tokenizer,\n",
        "      self.max_token_len\n",
        "    )\n",
        "\n",
        "  def train_dataloader(self):\n",
        "    return DataLoader(\n",
        "      self.train_dataset,\n",
        "      batch_size=self.batch_size,\n",
        "      shuffle=True,\n",
        "      num_workers=2\n",
        "    )\n",
        "\n",
        "  def val_dataloader(self):\n",
        "    return DataLoader(\n",
        "      self.test_dataset,\n",
        "      batch_size=self.batch_size,\n",
        "      num_workers=2\n",
        "    )\n",
        "\n",
        "  def test_dataloader(self):\n",
        "    return DataLoader(\n",
        "      self.test_dataset,\n",
        "      batch_size=self.batch_size,\n",
        "      num_workers=2\n",
        "    )"
      ]
    },
    {
      "cell_type": "markdown",
      "metadata": {
        "id": "tjzPYM0DxHRk"
      },
      "source": [
        "We define the number of epochs we will use in the training process"
      ]
    },
    {
      "cell_type": "code",
      "execution_count": null,
      "metadata": {
        "id": "SsI64FstjVSw"
      },
      "outputs": [],
      "source": [
        "N_EPOCHS = 10\n",
        "\n",
        "data_module = HotelReviewDataModule(\n",
        "  train_df,\n",
        "  val_df,\n",
        "  tokenizer,\n",
        "  batch_size=BATCH_SIZE,\n",
        "  max_token_len=MAX_LENGTH\n",
        ")"
      ]
    },
    {
      "cell_type": "markdown",
      "metadata": {
        "id": "EhCCDHOnxQWk"
      },
      "source": [
        "# **Building the Model**\n",
        "From here, we'll be building our model for use. We can start by packing everything in a Pytorch LightningModule. Our model will be using a pre-trained BERT model (the AraBERT v02 model) and a linear layer to convert the BERT representation to a classification task.\n",
        "\n",
        "For the optimizer we opted to use the AdamW optimizer as it leads to better training loss and that the models generalize much better than models trained with Adam."
      ]
    },
    {
      "cell_type": "code",
      "execution_count": null,
      "metadata": {
        "id": "LR5N-L-Sov5T"
      },
      "outputs": [],
      "source": [
        "class HotelReviewTagger(pl.LightningModule):\n",
        "\n",
        "  def __init__(self, n_classes: int, n_training_steps=None, n_warmup_steps=None):\n",
        "    super().__init__()\n",
        "    self.bert = BertModel.from_pretrained(BERT_MODEL_NAME, return_dict=True)\n",
        "    self.classifier = nn.Linear(self.bert.config.hidden_size, n_classes)\n",
        "    self.n_training_steps = n_training_steps\n",
        "    self.n_warmup_steps = n_warmup_steps\n",
        "    self.criterion = nn.BCELoss()\n",
        "\n",
        "  def forward(self, input_ids, attention_mask, labels=None):\n",
        "    output = self.bert(input_ids, attention_mask=attention_mask)\n",
        "    output = self.classifier(output.pooler_output)\n",
        "    output = torch.sigmoid(output)    \n",
        "    loss = 0\n",
        "    if labels is not None:\n",
        "        loss = self.criterion(output, labels)\n",
        "    return loss, output\n",
        "\n",
        "  def training_step(self, batch, batch_idx):\n",
        "    input_ids = batch[\"input_ids\"]\n",
        "    attention_mask = batch[\"attention_mask\"]\n",
        "    labels = batch[\"labels\"]\n",
        "    loss, outputs = self(input_ids, attention_mask, labels)\n",
        "    self.log(\"train_loss\", loss, prog_bar=True, logger=True)\n",
        "    return {\"loss\": loss, \"predictions\": outputs, \"labels\": labels}\n",
        "\n",
        "  def validation_step(self, batch, batch_idx):\n",
        "    input_ids = batch[\"input_ids\"]\n",
        "    attention_mask = batch[\"attention_mask\"]\n",
        "    labels = batch[\"labels\"]\n",
        "    loss, outputs = self(input_ids, attention_mask, labels)\n",
        "    self.log(\"val_loss\", loss, prog_bar=True, logger=True)\n",
        "    return loss\n",
        "\n",
        "  def test_step(self, batch, batch_idx):\n",
        "    input_ids = batch[\"input_ids\"]\n",
        "    attention_mask = batch[\"attention_mask\"]\n",
        "    labels = batch[\"labels\"]\n",
        "    loss, outputs = self(input_ids, attention_mask, labels)\n",
        "    self.log(\"test_loss\", loss, prog_bar=True, logger=True)\n",
        "    return loss\n",
        "\n",
        "  def training_epoch_end(self, outputs):\n",
        "    \n",
        "    labels = []\n",
        "    predictions = []\n",
        "    for output in outputs:\n",
        "      for out_labels in output[\"labels\"].detach().cpu():\n",
        "        labels.append(out_labels)\n",
        "      for out_predictions in output[\"predictions\"].detach().cpu():\n",
        "        predictions.append(out_predictions)\n",
        "\n",
        "    labels = torch.stack(labels).int()\n",
        "    predictions = torch.stack(predictions)\n",
        "\n",
        "    for i, name in enumerate(LABEL_COLUMNS):\n",
        "      class_roc_auc = auroc(predictions[:, i], labels[:, i])\n",
        "      self.logger.experiment.add_scalar(f\"{name}_roc_auc/Train\", class_roc_auc, self.current_epoch)\n",
        "\n",
        "\n",
        "  def configure_optimizers(self):\n",
        "\n",
        "    optimizer = AdamW(self.parameters(), lr=2e-5)\n",
        "\n",
        "    scheduler = get_linear_schedule_with_warmup(\n",
        "      optimizer,\n",
        "      num_warmup_steps=self.n_warmup_steps,\n",
        "      num_training_steps=self.n_training_steps\n",
        "    )\n",
        "\n",
        "    return dict(\n",
        "      optimizer=optimizer,\n",
        "      lr_scheduler=dict(\n",
        "        scheduler=scheduler,\n",
        "        interval='step'\n",
        "      )\n",
        "    )"
      ]
    },
    {
      "cell_type": "markdown",
      "metadata": {
        "id": "9D9IQlZC0Clu"
      },
      "source": [
        "## Optimizer scheduler\n",
        "The job of a scheduler is to change the learning rate of the optimizer during training. This might lead to better performance of our model. We'll use the get_linear_schedule_with_warmup."
      ]
    },
    {
      "cell_type": "code",
      "execution_count": null,
      "metadata": {
        "id": "LBRQlxoMqfPK"
      },
      "outputs": [],
      "source": [
        "dummy_model = nn.Linear(2, 1)\n",
        "\n",
        "optimizer = AdamW(params=dummy_model.parameters(), lr=0.001)\n",
        "\n",
        "warmup_steps = 20\n",
        "total_training_steps = 100\n",
        "\n",
        "scheduler = get_linear_schedule_with_warmup(\n",
        "  optimizer, \n",
        "  num_warmup_steps=warmup_steps,\n",
        "  num_training_steps=total_training_steps\n",
        ")\n",
        "\n",
        "learning_rate_history = []\n",
        "\n",
        "for step in range(total_training_steps):\n",
        "  optimizer.step()\n",
        "  scheduler.step()\n",
        "  learning_rate_history.append(optimizer.param_groups[0]['lr'])"
      ]
    },
    {
      "cell_type": "code",
      "execution_count": null,
      "metadata": {
        "id": "915C5gSZqimw"
      },
      "outputs": [],
      "source": [
        "plt.plot(learning_rate_history, label=\"learning rate\")\n",
        "plt.axvline(x=warmup_steps, color=\"red\", linestyle=(0, (5, 10)), label=\"warmup end\")\n",
        "plt.legend()\n",
        "plt.xlabel(\"Step\")\n",
        "plt.ylabel(\"Learning rate\")\n",
        "plt.tight_layout();"
      ]
    },
    {
      "cell_type": "markdown",
      "metadata": {
        "id": "6IEEXYo71iZX"
      },
      "source": [
        "We simulate 100 training steps and tell the scheduler to warm up for the first 20. The learning rate grows to the initial fixed value of 0.001 during the warm-up and then goes down (linearly) to 0.\n",
        "\n",
        "To use the scheduler, we need to calculate the number of training and warm-up steps. The number of training steps per epoch is equal to `number of training examples / batch size`. The number of total training steps is `training steps per epoch * number of epochs`:"
      ]
    },
    {
      "cell_type": "code",
      "execution_count": null,
      "metadata": {
        "id": "8mnLFX-sqpvB"
      },
      "outputs": [],
      "source": [
        "steps_per_epoch=len(train_df) // BATCH_SIZE\n",
        "total_training_steps = steps_per_epoch * N_EPOCHS"
      ]
    },
    {
      "cell_type": "markdown",
      "metadata": {
        "id": "u0J4UWur1rTW"
      },
      "source": [
        "We'll use a fifth of the training steps for a warm-up:"
      ]
    },
    {
      "cell_type": "code",
      "execution_count": null,
      "metadata": {
        "id": "yxkLHGFYqqfZ"
      },
      "outputs": [],
      "source": [
        "warmup_steps = total_training_steps // 5\n",
        "warmup_steps, total_training_steps"
      ]
    },
    {
      "cell_type": "markdown",
      "metadata": {
        "id": "J44J_p631vL2"
      },
      "source": [
        "We will now create an instance of the HotelReviewTagger which is our model :"
      ]
    },
    {
      "cell_type": "code",
      "execution_count": null,
      "metadata": {
        "id": "GEmaqoB2qvza"
      },
      "outputs": [],
      "source": [
        "model = HotelReviewTagger(\n",
        "  n_classes=len(LABEL_COLUMNS),\n",
        "  n_warmup_steps=warmup_steps,\n",
        "  n_training_steps=total_training_steps \n",
        ")"
      ]
    },
    {
      "cell_type": "markdown",
      "metadata": {
        "id": "Fwhl1y6W2BCs"
      },
      "source": [
        "##Evaluation\n",
        "Multi-label classification boils down to doing binary classification for each label/tag.\n",
        "\n",
        "We'll use Binary Cross Entropy to measure the error for each label. PyTorch has BCELoss, which we're going to combine with a sigmoid function\n",
        "\n",
        "We will take a sample from the dataset to calculate the loss of the prediction: "
      ]
    },
    {
      "cell_type": "code",
      "execution_count": null,
      "metadata": {
        "id": "FRiosYMfq1lU"
      },
      "outputs": [],
      "source": [
        "sample_batch = next(iter(DataLoader(train_dataset, batch_size=8, num_workers=2)))\n",
        "sample_batch[\"input_ids\"].shape, sample_batch[\"attention_mask\"].shape"
      ]
    },
    {
      "cell_type": "code",
      "execution_count": null,
      "metadata": {
        "id": "lXgF5akSQL_U"
      },
      "outputs": [],
      "source": [
        "_, predictions = model(sample_batch[\"input_ids\"], sample_batch[\"attention_mask\"])\n",
        "predictions"
      ]
    },
    {
      "cell_type": "code",
      "execution_count": null,
      "metadata": {
        "id": "GwPxoFXTQVLq"
      },
      "outputs": [],
      "source": [
        "criterion = nn.BCELoss()\n",
        "criterion(predictions, sample_batch[\"labels\"])"
      ]
    },
    {
      "cell_type": "markdown",
      "metadata": {
        "id": "zIj7XrPx2mLW"
      },
      "source": [
        "# **Training**\n",
        "\n",
        "Now we will proceed with the training phase:"
      ]
    },
    {
      "cell_type": "code",
      "execution_count": null,
      "metadata": {
        "id": "dHy1G8zxQpWT"
      },
      "outputs": [],
      "source": [
        "!rm -rf lightning_logs/\n",
        "!rm -rf checkpoints/"
      ]
    },
    {
      "cell_type": "code",
      "execution_count": null,
      "metadata": {
        "id": "694mNkejQqR6"
      },
      "outputs": [],
      "source": [
        "%load_ext tensorboard\n",
        "%tensorboard --logdir ./lightning_logs"
      ]
    },
    {
      "cell_type": "markdown",
      "metadata": {
        "id": "vWz3buUk3H0p"
      },
      "source": [
        "Checkpointing saves the best model (based on validation loss):"
      ]
    },
    {
      "cell_type": "code",
      "execution_count": null,
      "metadata": {
        "id": "lKpl4s7IQtzz"
      },
      "outputs": [],
      "source": [
        "checkpoint_callback = ModelCheckpoint(\n",
        "  dirpath=\"checkpoints\",\n",
        "  filename=\"best-checkpoint\",\n",
        "  save_top_k=1,\n",
        "  verbose=True,\n",
        "  monitor=\"val_loss\",\n",
        "  mode=\"min\"\n",
        ")"
      ]
    },
    {
      "cell_type": "markdown",
      "metadata": {
        "id": "bMc-MI_z3LU6"
      },
      "source": [
        "Log the progress in TensorBoard:"
      ]
    },
    {
      "cell_type": "code",
      "execution_count": null,
      "metadata": {
        "id": "-EGljzOYQzo6"
      },
      "outputs": [],
      "source": [
        "logger = TensorBoardLogger(\"lightning_logs\", name=\"hotel-review-comments\")"
      ]
    },
    {
      "cell_type": "markdown",
      "metadata": {
        "id": "1aPO-Z8u3Oh_"
      },
      "source": [
        "And early stopping triggers when the loss hasn't improved for the last 2 epochs"
      ]
    },
    {
      "cell_type": "code",
      "execution_count": null,
      "metadata": {
        "id": "sXQKdazJRJcT"
      },
      "outputs": [],
      "source": [
        "early_stopping_callback = EarlyStopping(monitor='val_loss', patience=2)"
      ]
    },
    {
      "cell_type": "markdown",
      "metadata": {
        "id": "V9yCnKZK3S1k"
      },
      "source": [
        "We can start the training process:"
      ]
    },
    {
      "cell_type": "code",
      "execution_count": null,
      "metadata": {
        "id": "xjlWqFquQ6Rl"
      },
      "outputs": [],
      "source": [
        "trainer = pl.Trainer(\n",
        "  logger=logger,\n",
        "  checkpoint_callback=checkpoint_callback,\n",
        "  callbacks=[early_stopping_callback],\n",
        "  max_epochs=N_EPOCHS,\n",
        "  gpus=1,\n",
        "  progress_bar_refresh_rate=30\n",
        ")"
      ]
    },
    {
      "cell_type": "code",
      "execution_count": null,
      "metadata": {
        "id": "tMYRwe3TRPaK"
      },
      "outputs": [],
      "source": [
        "trainer.fit(model, data_module)"
      ]
    },
    {
      "cell_type": "markdown",
      "metadata": {
        "id": "ujKkdfR03aet"
      },
      "source": [
        "We instanciate the validation dataloader so we can inject in the Trainer test method."
      ]
    },
    {
      "cell_type": "code",
      "execution_count": null,
      "metadata": {
        "id": "oBhfzv6kaTyU"
      },
      "outputs": [],
      "source": [
        "test_df = pd.read_excel(DATASETS_PATH + 'test_dataset.xlsx')\n",
        "test_dataset = HotelReviewDataset(val_df, tokenizer)\n",
        "\n",
        "test_dataloader = DataLoader(test_dataset, batch_size=BATCH_SIZE, num_workers=2)"
      ]
    },
    {
      "cell_type": "markdown",
      "metadata": {
        "id": "geCUy4bs3ZMg"
      },
      "source": [
        "And now we proceed with the evaluation of our training."
      ]
    },
    {
      "cell_type": "code",
      "execution_count": null,
      "metadata": {
        "id": "lZ2nYvy4RZ5L"
      },
      "outputs": [],
      "source": [
        "trainer.test(dataloaders=test_dataloader)"
      ]
    },
    {
      "cell_type": "markdown",
      "metadata": {
        "id": "TLGOQ3Xv3pbe"
      },
      "source": [
        "# **Predictions**\n",
        "\n",
        "Now we can predict results if we input a comment that means we can obtain the labels that define a particular comment.\n",
        "\n",
        "First of all, we need to load the best model (according to the validation loss) from our checkpoint."
      ]
    },
    {
      "cell_type": "code",
      "execution_count": null,
      "metadata": {
        "id": "OoZLaPrlrGam"
      },
      "outputs": [],
      "source": [
        "trained_model = HotelReviewTagger.load_from_checkpoint(\n",
        "  trainer.checkpoint_callback.best_model_path,\n",
        "  n_classes=len(LABEL_COLUMNS)\n",
        ")\n",
        "trained_model.eval()\n",
        "trained_model.freeze()"
      ]
    },
    {
      "cell_type": "markdown",
      "metadata": {
        "id": "KwlEAAuV4DR0"
      },
      "source": [
        "We can predict on a sample review. \n",
        "\n",
        "We can change the threshold parameter to configure the minimum value where that label is considered valid. That way , we can reduce the number of noise in our prediction.\n",
        "\n",
        "We'll take only tag predictions above (or equal) to the threshold."
      ]
    },
    {
      "cell_type": "code",
      "execution_count": null,
      "metadata": {
        "id": "tP5FTYs6rNi2"
      },
      "outputs": [],
      "source": [
        "THRESHOLD = 0.3\n",
        "test_comment = \"مسبح متسخ لا تستطيع السباحة فيه\"\n",
        "\n",
        "encoding = tokenizer.encode_plus(\n",
        "  test_comment,\n",
        "  add_special_tokens=True,\n",
        "  max_length=128,\n",
        "  return_token_type_ids=False,\n",
        "  padding=\"max_length\",\n",
        "  return_attention_mask=True,\n",
        "  return_tensors='pt',\n",
        ")\n",
        "\n",
        "_, test_prediction = trained_model(encoding[\"input_ids\"], encoding[\"attention_mask\"])\n",
        "test_prediction = test_prediction.flatten().numpy()\n",
        "\n",
        "for label, prediction in zip(LABEL_COLUMNS, test_prediction):\n",
        "  if prediction < THRESHOLD:\n",
        "    continue\n",
        "  print(f\"{label}: {prediction}\")"
      ]
    },
    {
      "cell_type": "markdown",
      "metadata": {
        "id": "attkOIsZ6kdF"
      },
      "source": [
        "# **Evaluation**\n",
        "We'll start by taking all predictions and labels from the validation set:"
      ]
    },
    {
      "cell_type": "code",
      "execution_count": null,
      "metadata": {
        "id": "0mD68qbut_I9"
      },
      "outputs": [],
      "source": [
        "from tqdm.auto import tqdm\n",
        "\n",
        "test_df = pd.read_excel(DATASETS_PATH + 'test_dataset.xlsx')\n",
        "device = torch.device('cuda')\n",
        "trained_model = trained_model.to(device)\n",
        "\n",
        "test_dataset = HotelReviewDataset(\n",
        "  test_df,\n",
        "  tokenizer,\n",
        "  max_token_len=MAX_LENGTH\n",
        ")\n",
        "\n",
        "predictions = []\n",
        "labels = []\n",
        "\n",
        "for item in tqdm(test_dataset):\n",
        "  _, prediction = trained_model(\n",
        "    item[\"input_ids\"].unsqueeze(dim=0).to(device), \n",
        "    item[\"attention_mask\"].unsqueeze(dim=0).to(device)\n",
        "  )\n",
        "  predictions.append(prediction.flatten())\n",
        "  labels.append(item[\"labels\"].int())\n",
        "\n",
        "predictions = torch.stack(predictions).detach().cpu()\n",
        "labels = torch.stack(labels).detach().cpu()"
      ]
    },
    {
      "cell_type": "markdown",
      "metadata": {
        "id": "hYOBlDal6q3G"
      },
      "source": [
        "For this evaluation we can use one simple metric which is the accuracy of the model:"
      ]
    },
    {
      "cell_type": "code",
      "execution_count": null,
      "metadata": {
        "id": "exARphYGul_J"
      },
      "outputs": [],
      "source": [
        "accuracy(predictions, labels, threshold=THRESHOLD)"
      ]
    },
    {
      "cell_type": "markdown",
      "metadata": {
        "id": "LQeH1P4Y6yMs"
      },
      "source": [
        "## ROC Curve\n",
        "Another metric we're going to use is the area under the Receiver operating characteristic (ROC) for each tag. ROC is created by plotting the True Positive Rate (TPR) vs False Positive Rate (FPR):\n",
        "<p align=\"center\">\n",
        "$ TPR = \\frac{TP}{TP+FN} $\n",
        "</p>\n",
        "<p align=\"center\">\n",
        "$ FPR = \\frac{FP}{FP+TN} $\n",
        "</p>\n",
        "\n",
        "Let's check the ROC for each tag:"
      ]
    },
    {
      "cell_type": "code",
      "execution_count": null,
      "metadata": {
        "id": "gdF_PDr8upzH"
      },
      "outputs": [],
      "source": [
        "print(\"AUROC per tag\")\n",
        "for i, name in enumerate(LABEL_COLUMNS):\n",
        "  tag_auroc = auroc(predictions[:, i], labels[:, i], pos_label=1)\n",
        "  print(f\"{name}: {tag_auroc}\")"
      ]
    },
    {
      "cell_type": "markdown",
      "metadata": {
        "id": "1g_gpV2vvLdn"
      },
      "source": [
        "When we apply the thresholding, we can obtain the following results by printing the classification report. Our metric is the F1-score. As you can see, the model is less accurate with the tags with low amount of examples."
      ]
    },
    {
      "cell_type": "code",
      "execution_count": null,
      "metadata": {
        "id": "vZ_HnFo1uvs4"
      },
      "outputs": [],
      "source": [
        "from sklearn.metrics import classification_report\n",
        "import numpy as np\n",
        "\n",
        "y_pred = predictions.numpy()\n",
        "y_true = labels.numpy()\n",
        "\n",
        "upper, lower = 1, 0\n",
        "\n",
        "y_pred = np.where(y_pred > THRESHOLD, upper, lower)\n",
        "\n",
        "print(classification_report(\n",
        "  y_true, \n",
        "  y_pred, \n",
        "  target_names=LABEL_COLUMNS, \n",
        "  zero_division=0\n",
        "))"
      ]
    },
    {
      "cell_type": "code",
      "execution_count": null,
      "metadata": {
        "id": "SVK08-suZA4S"
      },
      "outputs": [],
      "source": [
        "from sklearn.metrics import accuracy_score, hamming_loss\n",
        "\n",
        "print(accuracy_score(y_true, y_pred))"
      ]
    }
  ],
  "metadata": {
    "accelerator": "GPU",
    "colab": {
      "collapsed_sections": [],
      "name": "multi-label.ipynb",
      "provenance": [],
      "include_colab_link": true
    },
    "kernelspec": {
      "display_name": "Python 3",
      "name": "python3"
    },
    "language_info": {
      "name": "python"
    }
  },
  "nbformat": 4,
  "nbformat_minor": 0
}